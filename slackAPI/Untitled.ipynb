{
 "cells": [
  {
   "cell_type": "code",
   "execution_count": 3,
   "id": "dc4ccc6b",
   "metadata": {},
   "outputs": [
    {
     "data": {
      "text/plain": [
       "sklearn.pipeline.Pipeline"
      ]
     },
     "metadata": {},
     "output_type": "display_data"
    },
    {
     "data": {
      "text/plain": [
       "array([0., 0., 0.])"
      ]
     },
     "execution_count": 3,
     "metadata": {},
     "output_type": "execute_result"
    }
   ],
   "source": [
    "import pickle\n",
    "import pandas as pd\n",
    "with open('banking_model20.md', 'rb') as f:\n",
    "    try:\n",
    "        pickled_model = pickle.load(f)\n",
    "        display(type(pickled_model))\n",
    "    except:\n",
    "        print('error')\n",
    "app20= pd.read_csv(\"app_encoded.csv\", sep=',',\n",
    "                  index_col=0, encoding='utf8')\n",
    "test_set = app20.loc[app20['Test'], :]\n",
    "test_set = test_set[['CREDIT_TO_ANNUITY_RATIO', 'EXT_SOURCE_1', 'EXT_SOURCE_2',\n",
    "       'EXT_SOURCE_3', 'DAYS_BIRTH', 'AMT_ANNUITY',\n",
    "       'MEDIAN(payments.AMT_PAYMENT)', 'AMT_GOODS_PRICE',\n",
    "       'DAYS_ID_PUBLISH', 'COUNT(bureau)', 'COUNT(cash_balance)',\n",
    "       'MEDIAN(cash_balance.CNT_INSTALMENT_FUTURE)', 'AMT_CREDIT',\n",
    "       'MEDIAN(prev_app.CNT_PAYMENT)',\n",
    "       'MEDIAN(bureau.DAYS_CREDIT_ENDDATE)', 'CODE_GENDER',\n",
    "       'DAYS_EMPLOYED', 'MEDIAN(bureau.AMT_CREDIT_SUM)',\n",
    "       'MEDIAN(bureau.AMT_CREDIT_MAX_OVERDUE)', 'NAME_EDUCATION_TYPE']]\n",
    "test_set\n",
    "df = test_set.iloc[:3,]\n",
    "pickled_model.predict(df)"
   ]
  },
  {
   "cell_type": "code",
   "execution_count": 2,
   "id": "50110bda",
   "metadata": {},
   "outputs": [
    {
     "data": {
      "text/plain": [
       "array([0.])"
      ]
     },
     "execution_count": 2,
     "metadata": {},
     "output_type": "execute_result"
    }
   ],
   "source": [
    "df = test_set.iloc[[0]]\n",
    "pickled_model.predict(df)"
   ]
  },
  {
   "cell_type": "code",
   "execution_count": null,
   "id": "3003b2c8",
   "metadata": {},
   "outputs": [],
   "source": []
  }
 ],
 "metadata": {
  "kernelspec": {
   "display_name": "Python 3 (ipykernel)",
   "language": "python",
   "name": "python3"
  },
  "language_info": {
   "codemirror_mode": {
    "name": "ipython",
    "version": 3
   },
   "file_extension": ".py",
   "mimetype": "text/x-python",
   "name": "python",
   "nbconvert_exporter": "python",
   "pygments_lexer": "ipython3",
   "version": "3.9.7"
  },
  "toc": {
   "base_numbering": 1,
   "nav_menu": {},
   "number_sections": true,
   "sideBar": true,
   "skip_h1_title": false,
   "title_cell": "Table of Contents",
   "title_sidebar": "Contents",
   "toc_cell": false,
   "toc_position": {},
   "toc_section_display": true,
   "toc_window_display": false
  }
 },
 "nbformat": 4,
 "nbformat_minor": 5
}
